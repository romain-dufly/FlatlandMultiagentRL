{
 "cells": [
  {
   "cell_type": "code",
   "execution_count": 3,
   "metadata": {},
   "outputs": [
    {
     "name": "stdout",
     "output_type": "stream",
     "text": [
      "The autoreload extension is already loaded. To reload it, use:\n",
      "  %reload_ext autoreload\n"
     ]
    }
   ],
   "source": [
    "%load_ext autoreload\n",
    "%autoreload 2\n",
    "from src.evolution_algos import cem_uncorrelated, saes_1_1, ObjectiveFunction\n",
    "from src.evolution_policy import NeuralNetworkPolicy, LogisticRegression\n",
    "\n",
    "import numpy as np\n",
    "from src.test_utils import RenderWrapper\n",
    "from flatland.envs.line_generators import SparseLineGen\n",
    "from flatland.envs.malfunction_generators import (\n",
    "    MalfunctionParameters,\n",
    "    ParamMalfunctionGen,\n",
    ")\n",
    "from flatland.envs.persistence import RailEnvPersister\n",
    "from flatland.envs.rail_env import RailEnv\n",
    "from flatland.envs.rail_generators import SparseRailGen\n",
    "# from flatland_cutils import TreeObsForRailEnv as TreeCutils\n",
    "from flatland.envs.observations import GlobalObsForRailEnv\n",
    "\n",
    "from flatland.envs.observations import TreeObsForRailEnv\n",
    "from flatland.envs.distance_map import DistanceMap\n",
    "import flatland.envs.rail_env_shortest_paths as sp\n",
    "\n",
    "from flatland.utils.rendertools import RenderTool\n",
    "\n",
    "from src.observation_utils import normalize_observation\n",
    "\n",
    "import time"
   ]
  },
  {
   "cell_type": "code",
   "execution_count": 4,
   "metadata": {},
   "outputs": [],
   "source": [
    "# Create the environment\n",
    "observation_tree_depth = 1\n",
    "observation_radius = 10\n",
    "observation_max_path_depth = 20\n",
    "\n",
    "env = RailEnv(\n",
    "    width=20,\n",
    "    height=15,\n",
    "    rail_generator=SparseRailGen(\n",
    "        seed=0,  # Random seed\n",
    "        max_num_cities=2,  # Number of cities\n",
    "        grid_mode=True,\n",
    "        max_rails_between_cities=2,\n",
    "        max_rail_pairs_in_city=1,\n",
    "    ),\n",
    "    line_generator=SparseLineGen(speed_ratio_map={1.: 1.}\n",
    "        ),\n",
    "    number_of_agents=2, # Only one agent\n",
    "    obs_builder_object=TreeObsForRailEnv(max_depth=observation_tree_depth),\n",
    "    malfunction_generator=ParamMalfunctionGen(\n",
    "        MalfunctionParameters(\n",
    "            malfunction_rate=0.,  # Rate of malfunction\n",
    "            min_duration=3,  # Minimal duration\n",
    "            max_duration=20,  # Max duration\n",
    "        )\n",
    "    ),\n",
    ")"
   ]
  },
  {
   "cell_type": "code",
   "execution_count": 5,
   "metadata": {},
   "outputs": [
    {
     "name": "stdout",
     "output_type": "stream",
     "text": [
      "Number of parameters per layer: [(56, 32), (33, 5)]\n",
      "Number of parameters (neural network weights) to optimize: 1957\n",
      "1957\n"
     ]
    }
   ],
   "source": [
    "# Initializing nn policy\n",
    "n_features_per_node = env.obs_builder.observation_dim\n",
    "n_nodes = sum([np.power(4, i) for i in range(observation_tree_depth + 1)])\n",
    "state_size = n_features_per_node * n_nodes\n",
    "n_actions = 5\n",
    "nn_policy = NeuralNetworkPolicy(state_size, n_actions, 32)\n",
    "print(nn_policy.num_params)"
   ]
  },
  {
   "cell_type": "code",
   "execution_count": 6,
   "metadata": {},
   "outputs": [
    {
     "name": "stdout",
     "output_type": "stream",
     "text": [
      "iteration :  0\n",
      "sorted samples :  [-0.0, 3.0, 11.0, 17.0, 18.0, 19.0, 19.0, 22.0, 22.0, 24.0, 24.0, 26.0, 26.0, 26.0, 27.0, 27.0, 27.0, 27.0, 28.0, 28.0, 28.0, 28.0, 28.0, 29.0, 29.0, 29.0, 29.0, 30.0, 34.0, 36.0, 37.0, 38.0, 40.0, 40.0, 40.0, 42.0, 42.0, 42.0, 43.0, 43.0, 43.0, 44.0, 44.0, 45.0, 47.0, 53.0, 55.0, 57.0, 58.0, 60.0]\n",
      "32.68\n",
      "iteration :  5\n",
      "sorted samples :  [-0.0, -0.0, -0.0, 2.0, 2.0, 2.0, 5.0, 8.0, 8.0, 9.0, 10.0, 11.0, 18.0, 21.0, 22.0, 23.0, 23.0, 24.0, 25.0, 25.0, 25.0, 25.0, 25.0, 26.0, 26.0, 26.0, 26.0, 26.0, 26.0, 27.0, 27.0, 27.0, 27.0, 28.0, 28.0, 30.0, 31.0, 31.0, 35.0, 35.0, 36.0, 37.0, 39.0, 42.0, 45.0, 49.0, 54.0, 56.0, 56.0, 61.0]\n",
      "25.4\n",
      "iteration :  10\n",
      "sorted samples :  [-0.0, 3.0, 3.0, 4.0, 8.0, 9.0, 10.0, 14.0, 19.0, 20.0, 21.0, 23.0, 24.0, 25.0, 25.0, 27.0, 27.0, 28.0, 28.0, 28.0, 29.0, 29.0, 30.0, 31.0, 31.0, 31.0, 32.0, 34.0, 34.0, 35.0, 37.0, 37.0, 37.0, 39.0, 41.0, 41.0, 42.0, 43.0, 43.0, 43.0, 51.0, 53.0, 54.0, 54.0, 58.0, 58.0, 59.0, 60.0, 62.0, 64.0]\n",
      "32.76\n",
      "iteration :  15\n",
      "sorted samples :  [-0.0, 2.0, 3.0, 3.0, 3.0, 4.0, 5.0, 7.0, 8.0, 10.0, 10.0, 11.0, 16.0, 17.0, 17.0, 19.0, 22.0, 22.0, 24.0, 25.0, 26.0, 26.0, 26.0, 27.0, 27.0, 27.0, 28.0, 28.0, 28.0, 29.0, 29.0, 29.0, 30.0, 33.0, 34.0, 36.0, 36.0, 36.0, 37.0, 38.0, 40.0, 40.0, 41.0, 41.0, 42.0, 43.0, 50.0, 53.0, 59.0, 60.0]\n",
      "26.14\n",
      "iteration :  20\n",
      "sorted samples :  [1.0, 2.0, 2.0, 3.0, 3.0, 3.0, 8.0, 10.0, 11.0, 11.0, 13.0, 21.0, 22.0, 24.0, 26.0, 26.0, 26.0, 27.0, 27.0, 27.0, 27.0, 28.0, 28.0, 28.0, 28.0, 28.0, 29.0, 29.0, 30.0, 30.0, 31.0, 32.0, 32.0, 33.0, 33.0, 33.0, 35.0, 35.0, 36.0, 39.0, 40.0, 41.0, 42.0, 43.0, 50.0, 52.0, 54.0, 57.0, 57.0, 64.0]\n",
      "28.34\n",
      "iteration :  25\n",
      "sorted samples :  [-0.0, -0.0, 3.0, 8.0, 10.0, 11.0, 11.0, 12.0, 13.0, 13.0, 20.0, 22.0, 24.0, 25.0, 26.0, 27.0, 27.0, 27.0, 27.0, 27.0, 27.0, 28.0, 28.0, 28.0, 28.0, 29.0, 29.0, 30.0, 30.0, 30.0, 31.0, 32.0, 32.0, 33.0, 33.0, 35.0, 37.0, 38.0, 38.0, 42.0, 42.0, 43.0, 45.0, 52.0, 53.0, 54.0, 55.0, 56.0, 56.0, 57.0]\n",
      "29.68\n",
      "iteration :  30\n",
      "sorted samples :  [-0.0, 2.0, 2.0, 4.0, 6.0, 6.0, 7.0, 8.0, 8.0, 11.0, 12.0, 12.0, 19.0, 20.0, 22.0, 25.0, 25.0, 25.0, 26.0, 26.0, 26.0, 27.0, 28.0, 28.0, 28.0, 28.0, 28.0, 29.0, 29.0, 29.0, 29.0, 29.0, 29.0, 30.0, 30.0, 31.0, 32.0, 34.0, 34.0, 34.0, 37.0, 39.0, 40.0, 44.0, 47.0, 53.0, 53.0, 54.0, 56.0, 61.0]\n",
      "26.84\n",
      "iteration :  35\n",
      "sorted samples :  [2.0, 3.0, 7.0, 8.0, 12.0, 13.0, 14.0, 14.0, 15.0, 15.0, 16.0, 19.0, 21.0, 22.0, 23.0, 23.0, 24.0, 25.0, 25.0, 26.0, 26.0, 26.0, 26.0, 26.0, 26.0, 27.0, 28.0, 29.0, 29.0, 29.0, 29.0, 29.0, 31.0, 31.0, 33.0, 33.0, 35.0, 35.0, 37.0, 38.0, 39.0, 41.0, 42.0, 44.0, 48.0, 55.0, 55.0, 57.0, 62.0, 63.0]\n",
      "28.72\n",
      "iteration :  40\n",
      "sorted samples :  [-0.0, -0.0, -0.0, -0.0, 2.0, 3.0, 3.0, 3.0, 4.0, 5.0, 7.0, 8.0, 8.0, 9.0, 10.0, 12.0, 16.0, 20.0, 21.0, 23.0, 24.0, 26.0, 27.0, 27.0, 27.0, 28.0, 28.0, 28.0, 28.0, 29.0, 29.0, 29.0, 30.0, 30.0, 30.0, 30.0, 31.0, 31.0, 34.0, 34.0, 34.0, 34.0, 35.0, 36.0, 37.0, 37.0, 40.0, 46.0, 51.0, 63.0]\n",
      "22.94\n",
      "iteration :  45\n",
      "sorted samples :  [3.0, 5.0, 6.0, 7.0, 9.0, 10.0, 10.0, 12.0, 15.0, 17.0, 20.0, 23.0, 24.0, 24.0, 25.0, 25.0, 26.0, 26.0, 26.0, 27.0, 27.0, 28.0, 28.0, 28.0, 28.0, 28.0, 28.0, 28.0, 29.0, 29.0, 29.0, 30.0, 30.0, 30.0, 32.0, 32.0, 32.0, 33.0, 34.0, 37.0, 38.0, 38.0, 42.0, 42.0, 49.0, 51.0, 54.0, 54.0, 57.0, 64.0]\n",
      "28.58\n"
     ]
    }
   ],
   "source": [
    "# Cross entropy method\n",
    "\n",
    "# Create the objective function\n",
    "objective_function = ObjectiveFunction(env, nn_policy,observation_tree_depth=observation_tree_depth, observation_radius=observation_radius, num_episodes=1 , max_time_steps=200)\n",
    "\n",
    "init_mean_array = np.random.random(size = nn_policy.num_params)\n",
    "init_var_array = np.ones(shape=nn_policy.num_params) * 1000.\n",
    "hist_dict = {}\n",
    "theta = cem_uncorrelated(\n",
    "    objective_function,\n",
    "    mean_array = init_mean_array,\n",
    "    var_array = init_var_array,\n",
    "    max_iterations=50,\n",
    "    sample_size = 50,\n",
    "    elite_frac=0.1,\n",
    "    print_every=5,\n",
    "    success_score=15,\n",
    "    hist_dict=hist_dict\n",
    ")"
   ]
  },
  {
   "cell_type": "code",
   "execution_count": 7,
   "metadata": {},
   "outputs": [
    {
     "name": "stdout",
     "output_type": "stream",
     "text": [
      "Iteration 0/100: Score = 43.0\n",
      "Iteration 5/100: Score = 36.0\n",
      "Iteration 10/100: Score = 6.5\n",
      "Success after 10 iterations!\n"
     ]
    }
   ],
   "source": [
    "hist_dict = {}\n",
    "\n",
    "init_x_array = np.random.random(size = nn_policy.num_params)\n",
    "init_sigma_array = np.ones(shape=nn_policy.num_params) * 1.\n",
    "\n",
    "\n",
    "\n",
    "objective_function = ObjectiveFunction(env, nn_policy,observation_tree_depth=observation_tree_depth, observation_radius=observation_radius, num_episodes=2 , max_time_steps=200)\n",
    "\n",
    "saes = saes_1_1(\n",
    "    objective_function,\n",
    "    x_array = init_x_array,\n",
    "    sigma_array = init_sigma_array,\n",
    "    tau = 0.001,\n",
    "    max_iterations=100,\n",
    "    print_every=5,\n",
    "    success_score=10,\n",
    "    hist_dict=hist_dict\n",
    ")\n",
    "\n",
    "# does not seem to converge"
   ]
  },
  {
   "cell_type": "code",
   "execution_count": null,
   "metadata": {},
   "outputs": [],
   "source": []
  }
 ],
 "metadata": {
  "kernelspec": {
   "display_name": "Default",
   "language": "python",
   "name": "python3"
  },
  "language_info": {
   "codemirror_mode": {
    "name": "ipython",
    "version": 3
   },
   "file_extension": ".py",
   "mimetype": "text/x-python",
   "name": "python",
   "nbconvert_exporter": "python",
   "pygments_lexer": "ipython3",
   "version": "3.11.5"
  }
 },
 "nbformat": 4,
 "nbformat_minor": 2
}
