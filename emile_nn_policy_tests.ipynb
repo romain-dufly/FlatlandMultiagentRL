{
 "cells": [
  {
   "cell_type": "code",
   "execution_count": 1,
   "metadata": {},
   "outputs": [],
   "source": [
    "%load_ext autoreload\n",
    "%autoreload 2\n",
    "from evolution_algos import cem_uncorrelated, saes_1_1, ObjectiveFunction\n",
    "from evolution_policy import NeuralNetworkPolicy, LogisticRegression\n",
    "\n",
    "import numpy as np\n",
    "from test_utils import RenderWrapper\n",
    "from flatland.envs.line_generators import SparseLineGen\n",
    "from flatland.envs.malfunction_generators import (\n",
    "    MalfunctionParameters,\n",
    "    ParamMalfunctionGen,\n",
    ")\n",
    "from flatland.envs.persistence import RailEnvPersister\n",
    "from flatland.envs.rail_env import RailEnv\n",
    "from flatland.envs.rail_generators import SparseRailGen\n",
    "# from flatland_cutils import TreeObsForRailEnv as TreeCutils\n",
    "from flatland.envs.observations import GlobalObsForRailEnv\n",
    "\n",
    "from flatland.envs.observations import TreeObsForRailEnv\n",
    "from flatland.envs.distance_map import DistanceMap\n",
    "import flatland.envs.rail_env_shortest_paths as sp\n",
    "\n",
    "from flatland.utils.rendertools import RenderTool\n",
    "\n",
    "from observation_utils import normalize_observation\n",
    "\n",
    "import time"
   ]
  },
  {
   "cell_type": "code",
   "execution_count": 2,
   "metadata": {},
   "outputs": [],
   "source": [
    "# Create the environment\n",
    "observation_tree_depth = 1\n",
    "observation_radius = 10\n",
    "observation_max_path_depth = 20\n",
    "\n",
    "env = RailEnv(\n",
    "    width=20,\n",
    "    height=15,\n",
    "    rail_generator=SparseRailGen(\n",
    "        seed=0,  # Random seed\n",
    "        max_num_cities=2,  # Number of cities\n",
    "        grid_mode=True,\n",
    "        max_rails_between_cities=2,\n",
    "        max_rail_pairs_in_city=1,\n",
    "    ),\n",
    "    line_generator=SparseLineGen(speed_ratio_map={1.: 1.}\n",
    "        ),\n",
    "    number_of_agents=2, # Only one agent\n",
    "    obs_builder_object=TreeObsForRailEnv(max_depth=observation_tree_depth),\n",
    "    malfunction_generator=ParamMalfunctionGen(\n",
    "        MalfunctionParameters(\n",
    "            malfunction_rate=0.,  # Rate of malfunction\n",
    "            min_duration=3,  # Minimal duration\n",
    "            max_duration=20,  # Max duration\n",
    "        )\n",
    "    ),\n",
    ")"
   ]
  },
  {
   "cell_type": "code",
   "execution_count": 3,
   "metadata": {},
   "outputs": [
    {
     "name": "stdout",
     "output_type": "stream",
     "text": [
      "Number of parameters per layer: [(56, 32), (33, 5)]\n",
      "Number of parameters (neural network weights) to optimize: 1957\n",
      "1957\n"
     ]
    }
   ],
   "source": [
    "# Initializing nn policy\n",
    "n_features_per_node = env.obs_builder.observation_dim\n",
    "n_nodes = sum([np.power(4, i) for i in range(observation_tree_depth + 1)])\n",
    "state_size = n_features_per_node * n_nodes\n",
    "n_actions = 5\n",
    "nn_policy = NeuralNetworkPolicy(state_size, n_actions, 32)\n",
    "print(nn_policy.num_params)"
   ]
  },
  {
   "cell_type": "code",
   "execution_count": 5,
   "metadata": {},
   "outputs": [
    {
     "name": "stdout",
     "output_type": "stream",
     "text": [
      "iteration :  0\n",
      "sorted samples :  [-0.0, 2.0, 3.0, 3.0, 4.0, 10.0, 15.0, 19.0, 22.0, 24.0, 24.0, 25.0, 25.0, 25.0, 26.0, 27.0, 27.0, 27.0, 28.0, 28.0, 28.0, 29.0, 29.0, 30.0, 30.0, 31.0, 31.0, 31.0, 31.0, 31.0, 31.0, 32.0, 32.0, 33.0, 36.0, 38.0, 38.0, 38.0, 39.0, 40.0, 41.0, 41.0, 41.0, 41.0, 43.0, 45.0, 45.0, 50.0, 61.0, 63.0]\n",
      "29.86\n",
      "iteration :  5\n",
      "sorted samples :  [-0.0, -0.0, -0.0, 2.0, 2.0, 2.0, 2.0, 3.0, 3.0, 3.0, 3.0, 3.0, 4.0, 4.0, 4.0, 5.0, 6.0, 7.0, 19.0, 22.0, 23.0, 23.0, 25.0, 25.0, 25.0, 25.0, 28.0, 28.0, 28.0, 29.0, 29.0, 30.0, 32.0, 32.0, 34.0, 38.0, 39.0, 40.0, 40.0, 41.0, 41.0, 42.0, 42.0, 44.0, 46.0, 51.0, 55.0, 60.0, 60.0, 62.0]\n",
      "24.22\n",
      "iteration :  10\n",
      "sorted samples :  [-0.0, -0.0, -0.0, -0.0, -0.0, -0.0, 1.0, 2.0, 2.0, 2.0, 2.0, 2.0, 2.0, 2.0, 3.0, 3.0, 3.0, 3.0, 3.0, 3.0, 3.0, 3.0, 4.0, 4.0, 5.0, 6.0, 7.0, 7.0, 7.0, 7.0, 7.0, 8.0, 8.0, 21.0, 22.0, 23.0, 25.0, 27.0, 27.0, 29.0, 31.0, 31.0, 38.0, 40.0, 40.0, 41.0, 41.0, 44.0, 44.0, 44.0]\n",
      "13.54\n",
      "Success! Algorithm converged in  10  iterations\n"
     ]
    }
   ],
   "source": [
    "# Cross entropy method\n",
    "\n",
    "# Create the objective function\n",
    "objective_function = ObjectiveFunction(env, nn_policy,observation_tree_depth=observation_tree_depth, observation_radius=observation_radius, num_episodes=1 , max_time_steps=200)\n",
    "\n",
    "init_mean_array = np.random.random(size = nn_policy.num_params)\n",
    "init_var_array = np.ones(shape=nn_policy.num_params) * 1000.\n",
    "hist_dict = {}\n",
    "theta = cem_uncorrelated(\n",
    "    objective_function,\n",
    "    mean_array = init_mean_array,\n",
    "    var_array = init_var_array,\n",
    "    max_iterations=50,\n",
    "    sample_size = 50,\n",
    "    elite_frac=0.1,\n",
    "    print_every=5,\n",
    "    success_score=15,\n",
    "    hist_dict=hist_dict\n",
    ")"
   ]
  },
  {
   "cell_type": "code",
   "execution_count": 6,
   "metadata": {},
   "outputs": [
    {
     "name": "stdout",
     "output_type": "stream",
     "text": [
      "Iteration 0/100: Score = 16.0\n",
      "Iteration 5/100: Score = 36.0\n",
      "Iteration 10/100: Score = 40.5\n",
      "Iteration 15/100: Score = 26.5\n",
      "Iteration 20/100: Score = 36.5\n",
      "Iteration 25/100: Score = 27.0\n",
      "Iteration 30/100: Score = 13.0\n",
      "Iteration 35/100: Score = 33.5\n",
      "Iteration 40/100: Score = 23.0\n"
     ]
    },
    {
     "ename": "KeyboardInterrupt",
     "evalue": "",
     "output_type": "error",
     "traceback": [
      "\u001b[1;31m---------------------------------------------------------------------------\u001b[0m",
      "\u001b[1;31mKeyboardInterrupt\u001b[0m                         Traceback (most recent call last)",
      "Cell \u001b[1;32mIn[6], line 10\u001b[0m\n\u001b[0;32m      4\u001b[0m init_sigma_array \u001b[38;5;241m=\u001b[39m np\u001b[38;5;241m.\u001b[39mones(shape\u001b[38;5;241m=\u001b[39mnn_policy\u001b[38;5;241m.\u001b[39mnum_params) \u001b[38;5;241m*\u001b[39m \u001b[38;5;241m1.\u001b[39m\n\u001b[0;32m      8\u001b[0m objective_function \u001b[38;5;241m=\u001b[39m ObjectiveFunction(env, nn_policy,observation_tree_depth\u001b[38;5;241m=\u001b[39mobservation_tree_depth, observation_radius\u001b[38;5;241m=\u001b[39mobservation_radius, num_episodes\u001b[38;5;241m=\u001b[39m\u001b[38;5;241m2\u001b[39m , max_time_steps\u001b[38;5;241m=\u001b[39m\u001b[38;5;241m200\u001b[39m)\n\u001b[1;32m---> 10\u001b[0m saes \u001b[38;5;241m=\u001b[39m \u001b[43msaes_1_1\u001b[49m\u001b[43m(\u001b[49m\n\u001b[0;32m     11\u001b[0m \u001b[43m    \u001b[49m\u001b[43mobjective_function\u001b[49m\u001b[43m,\u001b[49m\n\u001b[0;32m     12\u001b[0m \u001b[43m    \u001b[49m\u001b[43mx_array\u001b[49m\u001b[43m \u001b[49m\u001b[38;5;241;43m=\u001b[39;49m\u001b[43m \u001b[49m\u001b[43minit_x_array\u001b[49m\u001b[43m,\u001b[49m\n\u001b[0;32m     13\u001b[0m \u001b[43m    \u001b[49m\u001b[43msigma_array\u001b[49m\u001b[43m \u001b[49m\u001b[38;5;241;43m=\u001b[39;49m\u001b[43m \u001b[49m\u001b[43minit_sigma_array\u001b[49m\u001b[43m,\u001b[49m\n\u001b[0;32m     14\u001b[0m \u001b[43m    \u001b[49m\u001b[43mtau\u001b[49m\u001b[43m \u001b[49m\u001b[38;5;241;43m=\u001b[39;49m\u001b[43m \u001b[49m\u001b[38;5;241;43m0.001\u001b[39;49m\u001b[43m,\u001b[49m\n\u001b[0;32m     15\u001b[0m \u001b[43m    \u001b[49m\u001b[43mmax_iterations\u001b[49m\u001b[38;5;241;43m=\u001b[39;49m\u001b[38;5;241;43m100\u001b[39;49m\u001b[43m,\u001b[49m\n\u001b[0;32m     16\u001b[0m \u001b[43m    \u001b[49m\u001b[43mprint_every\u001b[49m\u001b[38;5;241;43m=\u001b[39;49m\u001b[38;5;241;43m5\u001b[39;49m\u001b[43m,\u001b[49m\n\u001b[0;32m     17\u001b[0m \u001b[43m    \u001b[49m\u001b[43msuccess_score\u001b[49m\u001b[38;5;241;43m=\u001b[39;49m\u001b[38;5;241;43m10\u001b[39;49m\u001b[43m,\u001b[49m\n\u001b[0;32m     18\u001b[0m \u001b[43m    \u001b[49m\u001b[43mhist_dict\u001b[49m\u001b[38;5;241;43m=\u001b[39;49m\u001b[43mhist_dict\u001b[49m\n\u001b[0;32m     19\u001b[0m \u001b[43m)\u001b[49m\n",
      "File \u001b[1;32mc:\\Users\\timbu\\Desktop\\Polytechnique\\3A\\P2\\INF581\\Project\\flatland-RL\\evolution_algos.py:101\u001b[0m, in \u001b[0;36msaes_1_1\u001b[1;34m(objective_function, x_array, sigma_array, max_iterations, tau, print_every, success_score, num_evals_for_stop, hist_dict)\u001b[0m\n\u001b[0;32m     98\u001b[0m x_array_bis \u001b[38;5;241m=\u001b[39m x_array \u001b[38;5;241m+\u001b[39m sigma_array_bis \u001b[38;5;241m*\u001b[39m np\u001b[38;5;241m.\u001b[39mrandom\u001b[38;5;241m.\u001b[39mnormal(size\u001b[38;5;241m=\u001b[39mx_array\u001b[38;5;241m.\u001b[39mshape[\u001b[38;5;241m0\u001b[39m])\n\u001b[0;32m    100\u001b[0m \u001b[38;5;66;03m# Sample parameter vectors\u001b[39;00m\n\u001b[1;32m--> 101\u001b[0m population_bis \u001b[38;5;241m=\u001b[39m np\u001b[38;5;241m.\u001b[39mrandom\u001b[38;5;241m.\u001b[39mmultivariate_normal(x_array_bis, np\u001b[38;5;241m.\u001b[39mdiag(sigma_array_bis), \u001b[38;5;241m1\u001b[39m)\n\u001b[0;32m    103\u001b[0m \u001b[38;5;66;03m# Evaluate the mean of the population\u001b[39;00m\n\u001b[0;32m    104\u001b[0m score \u001b[38;5;241m=\u001b[39m objective_function(population[\u001b[38;5;241m0\u001b[39m])\n",
      "File \u001b[1;32mnumpy\\\\random\\\\mtrand.pyx:4235\u001b[0m, in \u001b[0;36mnumpy.random.mtrand.RandomState.multivariate_normal\u001b[1;34m()\u001b[0m\n",
      "File \u001b[1;32mc:\\Users\\timbu\\AppData\\Local\\Programs\\Python\\Python311\\Lib\\site-packages\\numpy\\linalg\\linalg.py:1681\u001b[0m, in \u001b[0;36msvd\u001b[1;34m(a, full_matrices, compute_uv, hermitian)\u001b[0m\n\u001b[0;32m   1678\u001b[0m         gufunc \u001b[38;5;241m=\u001b[39m _umath_linalg\u001b[38;5;241m.\u001b[39msvd_n_s\n\u001b[0;32m   1680\u001b[0m signature \u001b[38;5;241m=\u001b[39m \u001b[38;5;124m'\u001b[39m\u001b[38;5;124mD->DdD\u001b[39m\u001b[38;5;124m'\u001b[39m \u001b[38;5;28;01mif\u001b[39;00m isComplexType(t) \u001b[38;5;28;01melse\u001b[39;00m \u001b[38;5;124m'\u001b[39m\u001b[38;5;124md->ddd\u001b[39m\u001b[38;5;124m'\u001b[39m\n\u001b[1;32m-> 1681\u001b[0m u, s, vh \u001b[38;5;241m=\u001b[39m \u001b[43mgufunc\u001b[49m\u001b[43m(\u001b[49m\u001b[43ma\u001b[49m\u001b[43m,\u001b[49m\u001b[43m \u001b[49m\u001b[43msignature\u001b[49m\u001b[38;5;241;43m=\u001b[39;49m\u001b[43msignature\u001b[49m\u001b[43m,\u001b[49m\u001b[43m \u001b[49m\u001b[43mextobj\u001b[49m\u001b[38;5;241;43m=\u001b[39;49m\u001b[43mextobj\u001b[49m\u001b[43m)\u001b[49m\n\u001b[0;32m   1682\u001b[0m u \u001b[38;5;241m=\u001b[39m u\u001b[38;5;241m.\u001b[39mastype(result_t, copy\u001b[38;5;241m=\u001b[39m\u001b[38;5;28;01mFalse\u001b[39;00m)\n\u001b[0;32m   1683\u001b[0m s \u001b[38;5;241m=\u001b[39m s\u001b[38;5;241m.\u001b[39mastype(_realType(result_t), copy\u001b[38;5;241m=\u001b[39m\u001b[38;5;28;01mFalse\u001b[39;00m)\n",
      "\u001b[1;31mKeyboardInterrupt\u001b[0m: "
     ]
    }
   ],
   "source": [
    "hist_dict = {}\n",
    "\n",
    "init_x_array = np.random.random(size = nn_policy.num_params)\n",
    "init_sigma_array = np.ones(shape=nn_policy.num_params) * 1.\n",
    "\n",
    "\n",
    "\n",
    "objective_function = ObjectiveFunction(env, nn_policy,observation_tree_depth=observation_tree_depth, observation_radius=observation_radius, num_episodes=2 , max_time_steps=200)\n",
    "\n",
    "saes = saes_1_1(\n",
    "    objective_function,\n",
    "    x_array = init_x_array,\n",
    "    sigma_array = init_sigma_array,\n",
    "    tau = 0.001,\n",
    "    max_iterations=100,\n",
    "    print_every=5,\n",
    "    success_score=10,\n",
    "    hist_dict=hist_dict\n",
    ")\n",
    "\n",
    "# does not seem to converge"
   ]
  }
 ],
 "metadata": {
  "kernelspec": {
   "display_name": "Default",
   "language": "python",
   "name": "python3"
  },
  "language_info": {
   "codemirror_mode": {
    "name": "ipython",
    "version": 3
   },
   "file_extension": ".py",
   "mimetype": "text/x-python",
   "name": "python",
   "nbconvert_exporter": "python",
   "pygments_lexer": "ipython3",
   "version": "3.11.5"
  }
 },
 "nbformat": 4,
 "nbformat_minor": 2
}
