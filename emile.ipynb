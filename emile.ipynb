{
 "cells": [
  {
   "cell_type": "code",
   "execution_count": 24,
   "metadata": {},
   "outputs": [
    {
     "name": "stdout",
     "output_type": "stream",
     "text": [
      "The autoreload extension is already loaded. To reload it, use:\n",
      "  %reload_ext autoreload\n"
     ]
    }
   ],
   "source": [
    "%load_ext autoreload\n",
    "%autoreload 2\n",
    "from evolution_algos import cem_uncorrelated, saes_1_1, ObjectiveFunction\n",
    "from evolution_policy import NeuralNetworkPolicy, LogisticRegression\n",
    "\n",
    "import numpy as np\n",
    "from test_utils import RenderWrapper\n",
    "from flatland.envs.line_generators import SparseLineGen\n",
    "from flatland.envs.malfunction_generators import (\n",
    "    MalfunctionParameters,\n",
    "    ParamMalfunctionGen,\n",
    ")\n",
    "from flatland.envs.persistence import RailEnvPersister\n",
    "from flatland.envs.rail_env import RailEnv\n",
    "from flatland.envs.rail_generators import SparseRailGen\n",
    "# from flatland_cutils import TreeObsForRailEnv as TreeCutils\n",
    "from flatland.envs.observations import GlobalObsForRailEnv\n",
    "\n",
    "from flatland.envs.observations import TreeObsForRailEnv\n",
    "from flatland.envs.distance_map import DistanceMap\n",
    "import flatland.envs.rail_env_shortest_paths as sp\n",
    "\n",
    "from flatland.utils.rendertools import RenderTool\n",
    "\n",
    "from observation_utils import normalize_observation"
   ]
  },
  {
   "cell_type": "code",
   "execution_count": 25,
   "metadata": {},
   "outputs": [],
   "source": [
    "# Create the environment\n",
    "observation_tree_depth = 1\n",
    "observation_radius = 10\n",
    "observation_max_path_depth = 20\n",
    "\n",
    "env = RailEnv(\n",
    "    width=20,\n",
    "    height=15,\n",
    "    rail_generator=SparseRailGen(\n",
    "        seed=0,  # Random seed\n",
    "        max_num_cities=2,  # Number of cities\n",
    "        grid_mode=True,\n",
    "        max_rails_between_cities=2,\n",
    "        max_rail_pairs_in_city=1,\n",
    "    ),\n",
    "    line_generator=SparseLineGen(speed_ratio_map={1.: 1.}\n",
    "        ),\n",
    "    number_of_agents=2, # Only one agent\n",
    "    obs_builder_object=TreeObsForRailEnv(max_depth=observation_tree_depth),\n",
    "    malfunction_generator=ParamMalfunctionGen(\n",
    "        MalfunctionParameters(\n",
    "            malfunction_rate=0.,  # Rate of malfunction\n",
    "            min_duration=3,  # Minimal duration\n",
    "            max_duration=20,  # Max duration\n",
    "        )\n",
    "    ),\n",
    ")"
   ]
  },
  {
   "cell_type": "code",
   "execution_count": 26,
   "metadata": {},
   "outputs": [
    {
     "name": "stdout",
     "output_type": "stream",
     "text": [
      "275\n"
     ]
    }
   ],
   "source": [
    "# Initializing policy\n",
    "n_features_per_node = env.obs_builder.observation_dim\n",
    "n_nodes = sum([np.power(4, i) for i in range(observation_tree_depth + 1)])\n",
    "state_size = n_features_per_node * n_nodes\n",
    "policy = LogisticRegression(state_size, 5)\n",
    "print(policy.num_params)"
   ]
  },
  {
   "cell_type": "code",
   "execution_count": 27,
   "metadata": {},
   "outputs": [],
   "source": [
    "theta = np.random.rand(policy.num_params)\n",
    "\n",
    "obs, info = env.reset()\n",
    "agent_obs = [None] * env.get_num_agents()\n",
    "for agent in env.get_agent_handles():\n",
    "    if obs[agent]:\n",
    "        agent_obs[agent] = normalize_observation(obs[agent], tree_depth=observation_tree_depth, observation_radius=observation_radius)\n",
    "\n",
    "for agent in env.get_agent_handles():\n",
    "    action = policy.act(agent_obs[agent], theta)\n",
    "    "
   ]
  },
  {
   "cell_type": "code",
   "execution_count": 31,
   "metadata": {},
   "outputs": [
    {
     "name": "stdout",
     "output_type": "stream",
     "text": [
      "0.0\n",
      "0.0\n",
      "0.0\n",
      "0.0\n",
      "0.0\n",
      "0.0\n"
     ]
    },
    {
     "ename": "KeyboardInterrupt",
     "evalue": "",
     "output_type": "error",
     "traceback": [
      "\u001b[1;31m---------------------------------------------------------------------------\u001b[0m",
      "\u001b[1;31mKeyboardInterrupt\u001b[0m                         Traceback (most recent call last)",
      "Cell \u001b[1;32mIn[31], line 9\u001b[0m\n\u001b[0;32m      7\u001b[0m init_var_array \u001b[38;5;241m=\u001b[39m np\u001b[38;5;241m.\u001b[39mones(shape\u001b[38;5;241m=\u001b[39mpolicy\u001b[38;5;241m.\u001b[39mnum_params) \u001b[38;5;241m*\u001b[39m \u001b[38;5;241m100.\u001b[39m\n\u001b[0;32m      8\u001b[0m hist_dict \u001b[38;5;241m=\u001b[39m {}\n\u001b[1;32m----> 9\u001b[0m cem \u001b[38;5;241m=\u001b[39m \u001b[43mcem_uncorrelated\u001b[49m\u001b[43m(\u001b[49m\n\u001b[0;32m     10\u001b[0m \u001b[43m    \u001b[49m\u001b[43mobjective_function\u001b[49m\u001b[43m,\u001b[49m\n\u001b[0;32m     11\u001b[0m \u001b[43m    \u001b[49m\u001b[43mmean_array\u001b[49m\u001b[43m \u001b[49m\u001b[38;5;241;43m=\u001b[39;49m\u001b[43m \u001b[49m\u001b[43minit_mean_array\u001b[49m\u001b[43m,\u001b[49m\n\u001b[0;32m     12\u001b[0m \u001b[43m    \u001b[49m\u001b[43mvar_array\u001b[49m\u001b[43m \u001b[49m\u001b[38;5;241;43m=\u001b[39;49m\u001b[43m \u001b[49m\u001b[43minit_var_array\u001b[49m\u001b[43m,\u001b[49m\n\u001b[0;32m     13\u001b[0m \u001b[43m    \u001b[49m\u001b[43mmax_iterations\u001b[49m\u001b[38;5;241;43m=\u001b[39;49m\u001b[38;5;241;43m100\u001b[39;49m\u001b[43m,\u001b[49m\n\u001b[0;32m     14\u001b[0m \u001b[43m    \u001b[49m\u001b[43msample_size\u001b[49m\u001b[38;5;241;43m=\u001b[39;49m\u001b[38;5;241;43m50\u001b[39;49m\u001b[43m,\u001b[49m\n\u001b[0;32m     15\u001b[0m \u001b[43m    \u001b[49m\u001b[43melite_frac\u001b[49m\u001b[38;5;241;43m=\u001b[39;49m\u001b[38;5;241;43m0.2\u001b[39;49m\u001b[43m,\u001b[49m\n\u001b[0;32m     16\u001b[0m \u001b[43m    \u001b[49m\u001b[43mprint_every\u001b[49m\u001b[38;5;241;43m=\u001b[39;49m\u001b[38;5;241;43m1\u001b[39;49m\u001b[43m,\u001b[49m\n\u001b[0;32m     17\u001b[0m \u001b[43m    \u001b[49m\u001b[43msuccess_score\u001b[49m\u001b[38;5;241;43m=\u001b[39;49m\u001b[38;5;241;43m-\u001b[39;49m\u001b[38;5;241;43m100\u001b[39;49m\u001b[43m,\u001b[49m\n\u001b[0;32m     18\u001b[0m \u001b[43m    \u001b[49m\u001b[43mhist_dict\u001b[49m\u001b[38;5;241;43m=\u001b[39;49m\u001b[43mhist_dict\u001b[49m\n\u001b[0;32m     19\u001b[0m \u001b[43m)\u001b[49m\n",
      "File \u001b[1;32mc:\\Users\\timbu\\Desktop\\Polytechnique\\3A\\P2\\INF581\\Project\\flatland-RL\\evolution_algos.py:39\u001b[0m, in \u001b[0;36mcem_uncorrelated\u001b[1;34m(objective_function, mean_array, var_array, max_iterations, sample_size, elite_frac, print_every, success_score, num_evals_for_stop, hist_dict)\u001b[0m\n\u001b[0;32m     37\u001b[0m eval_samples \u001b[38;5;241m=\u001b[39m []\n\u001b[0;32m     38\u001b[0m \u001b[38;5;28;01mfor\u001b[39;00m sample \u001b[38;5;129;01min\u001b[39;00m samples:\n\u001b[1;32m---> 39\u001b[0m     eval_samples\u001b[38;5;241m.\u001b[39mappend([sample,\u001b[43mobjective_function\u001b[49m\u001b[43m(\u001b[49m\u001b[43msample\u001b[49m\u001b[43m)\u001b[49m])\n\u001b[0;32m     40\u001b[0m eval_samples\u001b[38;5;241m.\u001b[39msort(key \u001b[38;5;241m=\u001b[39m \u001b[38;5;28;01mlambda\u001b[39;00m sample : sample[\u001b[38;5;241m1\u001b[39m])\n\u001b[0;32m     41\u001b[0m elite \u001b[38;5;241m=\u001b[39m []\n",
      "File \u001b[1;32mc:\\Users\\timbu\\Desktop\\Polytechnique\\3A\\P2\\INF581\\Project\\flatland-RL\\evolution_algos.py:154\u001b[0m, in \u001b[0;36mObjectiveFunction.__call__\u001b[1;34m(self, policy_params, num_episodes, max_time_steps, render)\u001b[0m\n\u001b[0;32m    153\u001b[0m \u001b[38;5;28;01mdef\u001b[39;00m \u001b[38;5;21m__call__\u001b[39m(\u001b[38;5;28mself\u001b[39m, policy_params, num_episodes\u001b[38;5;241m=\u001b[39m\u001b[38;5;28;01mNone\u001b[39;00m, max_time_steps\u001b[38;5;241m=\u001b[39m\u001b[38;5;28;01mNone\u001b[39;00m, render\u001b[38;5;241m=\u001b[39m\u001b[38;5;28;01mFalse\u001b[39;00m):\n\u001b[1;32m--> 154\u001b[0m     \u001b[38;5;28;01mreturn\u001b[39;00m \u001b[38;5;28;43mself\u001b[39;49m\u001b[38;5;241;43m.\u001b[39;49m\u001b[43meval\u001b[49m\u001b[43m(\u001b[49m\u001b[43mpolicy_params\u001b[49m\u001b[43m,\u001b[49m\u001b[43m \u001b[49m\u001b[43mnum_episodes\u001b[49m\u001b[43m,\u001b[49m\u001b[43m \u001b[49m\u001b[43mmax_time_steps\u001b[49m\u001b[43m,\u001b[49m\u001b[43m \u001b[49m\u001b[43mrender\u001b[49m\u001b[43m)\u001b[49m\n",
      "File \u001b[1;32mc:\\Users\\timbu\\Desktop\\Polytechnique\\3A\\P2\\INF581\\Project\\flatland-RL\\evolution_algos.py:131\u001b[0m, in \u001b[0;36mObjectiveFunction.eval\u001b[1;34m(self, policy_params, num_episodes, max_time_steps, render)\u001b[0m\n\u001b[0;32m    129\u001b[0m \u001b[38;5;28;01mfor\u001b[39;00m agent \u001b[38;5;129;01min\u001b[39;00m \u001b[38;5;28mself\u001b[39m\u001b[38;5;241m.\u001b[39menv\u001b[38;5;241m.\u001b[39mget_agent_handles():\n\u001b[0;32m    130\u001b[0m     \u001b[38;5;28;01mif\u001b[39;00m state[agent]:\n\u001b[1;32m--> 131\u001b[0m         agent_obs[agent] \u001b[38;5;241m=\u001b[39m \u001b[43mnormalize_observation\u001b[49m\u001b[43m(\u001b[49m\u001b[43mstate\u001b[49m\u001b[43m[\u001b[49m\u001b[43magent\u001b[49m\u001b[43m]\u001b[49m\u001b[43m,\u001b[49m\u001b[43m \u001b[49m\u001b[43mtree_depth\u001b[49m\u001b[38;5;241;43m=\u001b[39;49m\u001b[38;5;28;43mself\u001b[39;49m\u001b[38;5;241;43m.\u001b[39;49m\u001b[43mobservation_tree_depth\u001b[49m\u001b[43m,\u001b[49m\u001b[43m \u001b[49m\u001b[43mobservation_radius\u001b[49m\u001b[38;5;241;43m=\u001b[39;49m\u001b[38;5;28;43mself\u001b[39;49m\u001b[38;5;241;43m.\u001b[39;49m\u001b[43mobservation_radius\u001b[49m\u001b[43m)\u001b[49m\n\u001b[0;32m    132\u001b[0m actions \u001b[38;5;241m=\u001b[39m {}\n\u001b[0;32m    133\u001b[0m \u001b[38;5;28;01mfor\u001b[39;00m agent \u001b[38;5;129;01min\u001b[39;00m \u001b[38;5;28mself\u001b[39m\u001b[38;5;241m.\u001b[39menv\u001b[38;5;241m.\u001b[39mget_agent_handles():\n",
      "File \u001b[1;32mc:\\Users\\timbu\\Desktop\\Polytechnique\\3A\\P2\\INF581\\Project\\flatland-RL\\observation_utils.py:119\u001b[0m, in \u001b[0;36mnormalize_observation\u001b[1;34m(observation, tree_depth, observation_radius)\u001b[0m\n\u001b[0;32m    115\u001b[0m \u001b[38;5;28;01mdef\u001b[39;00m \u001b[38;5;21mnormalize_observation\u001b[39m(observation, tree_depth: \u001b[38;5;28mint\u001b[39m, observation_radius\u001b[38;5;241m=\u001b[39m\u001b[38;5;241m0\u001b[39m):\n\u001b[0;32m    116\u001b[0m \u001b[38;5;250m    \u001b[39m\u001b[38;5;124;03m\"\"\"\u001b[39;00m\n\u001b[0;32m    117\u001b[0m \u001b[38;5;124;03m    This function normalizes the observation used by the RL algorithm\u001b[39;00m\n\u001b[0;32m    118\u001b[0m \u001b[38;5;124;03m    \"\"\"\u001b[39;00m\n\u001b[1;32m--> 119\u001b[0m     data, distance, agent_data \u001b[38;5;241m=\u001b[39m \u001b[43msplit_tree_into_feature_groups\u001b[49m\u001b[43m(\u001b[49m\u001b[43mobservation\u001b[49m\u001b[43m,\u001b[49m\u001b[43m \u001b[49m\u001b[43mtree_depth\u001b[49m\u001b[43m)\u001b[49m\n\u001b[0;32m    121\u001b[0m     data \u001b[38;5;241m=\u001b[39m norm_obs_clip(data, fixed_radius\u001b[38;5;241m=\u001b[39mobservation_radius)\n\u001b[0;32m    122\u001b[0m     distance \u001b[38;5;241m=\u001b[39m norm_obs_clip(distance, normalize_to_range\u001b[38;5;241m=\u001b[39m\u001b[38;5;28;01mTrue\u001b[39;00m)\n",
      "File \u001b[1;32mc:\\Users\\timbu\\Desktop\\Polytechnique\\3A\\P2\\INF581\\Project\\flatland-RL\\observation_utils.py:108\u001b[0m, in \u001b[0;36msplit_tree_into_feature_groups\u001b[1;34m(tree, max_tree_depth)\u001b[0m\n\u001b[0;32m    106\u001b[0m \u001b[38;5;28;01mfor\u001b[39;00m direction \u001b[38;5;129;01min\u001b[39;00m TreeObsForRailEnv\u001b[38;5;241m.\u001b[39mtree_explored_actions_char:\n\u001b[0;32m    107\u001b[0m     sub_data, sub_distance, sub_agent_data \u001b[38;5;241m=\u001b[39m _split_subtree_into_feature_groups(tree\u001b[38;5;241m.\u001b[39mchilds[direction], \u001b[38;5;241m1\u001b[39m, max_tree_depth)\n\u001b[1;32m--> 108\u001b[0m     data \u001b[38;5;241m=\u001b[39m \u001b[43mnp\u001b[49m\u001b[38;5;241;43m.\u001b[39;49m\u001b[43mconcatenate\u001b[49m\u001b[43m(\u001b[49m\u001b[43m(\u001b[49m\u001b[43mdata\u001b[49m\u001b[43m,\u001b[49m\u001b[43m \u001b[49m\u001b[43msub_data\u001b[49m\u001b[43m)\u001b[49m\u001b[43m)\u001b[49m\n\u001b[0;32m    109\u001b[0m     distance \u001b[38;5;241m=\u001b[39m np\u001b[38;5;241m.\u001b[39mconcatenate((distance, sub_distance))\n\u001b[0;32m    110\u001b[0m     agent_data \u001b[38;5;241m=\u001b[39m np\u001b[38;5;241m.\u001b[39mconcatenate((agent_data, sub_agent_data))\n",
      "\u001b[1;31mKeyboardInterrupt\u001b[0m: "
     ]
    }
   ],
   "source": [
    "# Cross entropy method\n",
    "\n",
    "# Create the objective function\n",
    "objective_function = ObjectiveFunction(env, policy,observation_tree_depth=observation_tree_depth, observation_radius=observation_radius, num_episodes=10 , max_time_steps=10)\n",
    "\n",
    "init_mean_array = np.random.random(size = policy.num_params)\n",
    "init_var_array = np.ones(shape=policy.num_params) * 100.\n",
    "hist_dict = {}\n",
    "cem = cem_uncorrelated(\n",
    "    objective_function,\n",
    "    mean_array = init_mean_array,\n",
    "    var_array = init_var_array,\n",
    "    max_iterations=100,\n",
    "    sample_size=50,\n",
    "    elite_frac=0.2,\n",
    "    print_every=1,\n",
    "    success_score=-100,\n",
    "    hist_dict=hist_dict\n",
    ")"
   ]
  },
  {
   "cell_type": "code",
   "execution_count": 7,
   "metadata": {},
   "outputs": [
    {
     "data": {
      "text/plain": [
       "array([0.48152989, 0.57940165, 0.74501553, ..., 0.32054021, 0.13035598,\n",
       "       0.20940606])"
      ]
     },
     "execution_count": 7,
     "metadata": {},
     "output_type": "execute_result"
    }
   ],
   "source": [
    "cem"
   ]
  }
 ],
 "metadata": {
  "kernelspec": {
   "display_name": "Default",
   "language": "python",
   "name": "python3"
  },
  "language_info": {
   "codemirror_mode": {
    "name": "ipython",
    "version": 3
   },
   "file_extension": ".py",
   "mimetype": "text/x-python",
   "name": "python",
   "nbconvert_exporter": "python",
   "pygments_lexer": "ipython3",
   "version": "3.11.5"
  }
 },
 "nbformat": 4,
 "nbformat_minor": 2
}
