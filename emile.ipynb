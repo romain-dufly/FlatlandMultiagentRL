{
 "cells": [
  {
   "cell_type": "code",
   "execution_count": 36,
   "metadata": {},
   "outputs": [
    {
     "name": "stdout",
     "output_type": "stream",
     "text": [
      "The autoreload extension is already loaded. To reload it, use:\n",
      "  %reload_ext autoreload\n"
     ]
    }
   ],
   "source": [
    "%load_ext autoreload\n",
    "%autoreload 2\n",
    "from evolution_algos import cem_uncorrelated, saes_1_1, ObjectiveFunction\n",
    "from evolution_policy import NeuralNetworkPolicy, LogisticRegression\n",
    "\n",
    "import numpy as np\n",
    "from test_utils import RenderWrapper\n",
    "from flatland.envs.line_generators import SparseLineGen\n",
    "from flatland.envs.malfunction_generators import (\n",
    "    MalfunctionParameters,\n",
    "    ParamMalfunctionGen,\n",
    ")\n",
    "from flatland.envs.persistence import RailEnvPersister\n",
    "from flatland.envs.rail_env import RailEnv\n",
    "from flatland.envs.rail_generators import SparseRailGen\n",
    "# from flatland_cutils import TreeObsForRailEnv as TreeCutils\n",
    "from flatland.envs.observations import GlobalObsForRailEnv\n",
    "\n",
    "from flatland.envs.observations import TreeObsForRailEnv\n",
    "from flatland.envs.distance_map import DistanceMap\n",
    "import flatland.envs.rail_env_shortest_paths as sp\n",
    "\n",
    "from flatland.utils.rendertools import RenderTool\n",
    "\n",
    "from observation_utils import normalize_observation"
   ]
  },
  {
   "cell_type": "code",
   "execution_count": 41,
   "metadata": {},
   "outputs": [],
   "source": [
    "# Create the environment\n",
    "observation_tree_depth = 2\n",
    "observation_radius = 10\n",
    "observation_max_path_depth = 20\n",
    "\n",
    "env = RailEnv(\n",
    "    width=20,\n",
    "    height=15,\n",
    "    rail_generator=SparseRailGen(\n",
    "        seed=0,  # Random seed\n",
    "        max_num_cities=2,  # Number of cities\n",
    "        grid_mode=True,\n",
    "        max_rails_between_cities=2,\n",
    "        max_rail_pairs_in_city=1,\n",
    "    ),\n",
    "    line_generator=SparseLineGen(speed_ratio_map={1.: 1.}\n",
    "        ),\n",
    "    number_of_agents=2, # Only one agent\n",
    "    obs_builder_object=TreeObsForRailEnv(max_depth=observation_tree_depth),\n",
    "    malfunction_generator=ParamMalfunctionGen(\n",
    "        MalfunctionParameters(\n",
    "            malfunction_rate=0.,  # Rate of malfunction\n",
    "            min_duration=3,  # Minimal duration\n",
    "            max_duration=20,  # Max duration\n",
    "        )\n",
    "    ),\n",
    ")"
   ]
  },
  {
   "cell_type": "code",
   "execution_count": 42,
   "metadata": {},
   "outputs": [
    {
     "name": "stdout",
     "output_type": "stream",
     "text": [
      "1155\n"
     ]
    }
   ],
   "source": [
    "# Initializing policy\n",
    "n_features_per_node = env.obs_builder.observation_dim\n",
    "n_nodes = sum([np.power(4, i) for i in range(observation_tree_depth + 1)])\n",
    "state_size = n_features_per_node * n_nodes\n",
    "policy = LogisticRegression(state_size, 5)\n",
    "print(policy.num_params)"
   ]
  },
  {
   "cell_type": "code",
   "execution_count": 43,
   "metadata": {},
   "outputs": [],
   "source": [
    "theta = np.random.rand(policy.num_params)\n",
    "\n",
    "obs, info = env.reset()\n",
    "agent_obs = [None] * env.get_num_agents()\n",
    "for agent in env.get_agent_handles():\n",
    "    if obs[agent]:\n",
    "        agent_obs[agent] = normalize_observation(obs[agent], tree_depth=observation_tree_depth, observation_radius=observation_radius)\n",
    "\n",
    "for agent in env.get_agent_handles():\n",
    "    action = policy.act(agent_obs[agent], theta)\n",
    "\n",
    "len(theta)\n",
    "    "
   ]
  },
  {
   "cell_type": "code",
   "execution_count": 44,
   "metadata": {},
   "outputs": [
    {
     "name": "stdout",
     "output_type": "stream",
     "text": [
      "iteration :  0\n",
      "sorted samples :  [-0.0, -0.0, 20.0, 21.0, 22.0, 23.0, 24.0, 24.0, 25.0, 29.0, 30.0, 31.0, 32.0, 35.0, 38.0, 38.0, 38.0, 38.0, 38.0, 38.0, 38.0, 38.0, 39.0, 40.0, 40.0, 40.0, 41.0, 41.0, 41.0, 42.0, 43.0, 43.0, 43.0, 43.0, 43.0, 46.0, 46.0, 46.0, 46.0, 46.0, 46.0, 46.0, 46.0, 46.0, 46.0, 52.0, 53.0, 54.0, 57.0, 58.0]\n",
      "37.86\n",
      "iteration :  1\n",
      "sorted samples :  [-0.0, -0.0, -0.0, -0.0, -0.0, -0.0, -0.0, -0.0, -0.0, 2.0, 12.0, 14.0, 20.0, 21.0, 21.0, 21.0, 21.0, 22.0, 22.0, 22.0, 22.0, 23.0, 24.0, 25.0, 27.0, 29.0, 30.0, 35.0, 38.0, 38.0, 38.0, 39.0, 39.0, 39.0, 40.0, 40.0, 41.0, 41.0, 42.0, 42.0, 42.0, 43.0, 44.0, 45.0, 46.0, 46.0, 46.0, 46.0, 46.0, 53.0]\n",
      "26.94\n",
      "iteration :  2\n",
      "sorted samples :  [-0.0, -0.0, -0.0, -0.0, -0.0, -0.0, -0.0, -0.0, -0.0, -0.0, -0.0, -0.0, -0.0, -0.0, -0.0, -0.0, -0.0, 19.0, 24.0, 24.0, 27.0, 27.0, 27.0, 28.0, 28.0, 29.0, 30.0, 30.0, 30.0, 30.0, 30.0, 31.0, 31.0, 39.0, 40.0, 40.0, 41.0, 41.0, 41.0, 41.0, 41.0, 43.0, 43.0, 43.0, 43.0, 43.0, 44.0, 44.0, 44.0, 45.0]\n",
      "23.22\n",
      "iteration :  3\n",
      "sorted samples :  [-0.0, -0.0, -0.0, -0.0, -0.0, -0.0, -0.0, -0.0, -0.0, -0.0, -0.0, -0.0, -0.0, -0.0, -0.0, -0.0, -0.0, 22.0, 26.0, 27.0, 27.0, 27.0, 27.0, 28.0, 28.0, 28.0, 29.0, 29.0, 30.0, 31.0, 31.0, 31.0, 31.0, 32.0, 39.0, 39.0, 40.0, 40.0, 41.0, 41.0, 41.0, 41.0, 42.0, 42.0, 43.0, 43.0, 44.0, 45.0, 45.0, 57.0]\n",
      "23.34\n",
      "iteration :  4\n",
      "sorted samples :  [-0.0, -0.0, -0.0, -0.0, -0.0, -0.0, -0.0, -0.0, -0.0, -0.0, -0.0, -0.0, -0.0, -0.0, -0.0, -0.0, -0.0, -0.0, -0.0, -0.0, -0.0, -0.0, -0.0, 2.0, 8.0, 24.0, 27.0, 28.0, 28.0, 29.0, 29.0, 29.0, 29.0, 30.0, 30.0, 30.0, 30.0, 40.0, 41.0, 41.0, 41.0, 42.0, 42.0, 43.0, 43.0, 43.0, 44.0, 44.0, 44.0, 45.0]\n",
      "18.12\n",
      "iteration :  5\n",
      "sorted samples :  [-0.0, -0.0, -0.0, -0.0, -0.0, -0.0, -0.0, -0.0, -0.0, -0.0, -0.0, -0.0, -0.0, -0.0, -0.0, -0.0, -0.0, -0.0, -0.0, -0.0, -0.0, -0.0, -0.0, -0.0, -0.0, -0.0, 3.0, 21.0, 28.0, 28.0, 29.0, 29.0, 30.0, 30.0, 30.0, 31.0, 31.0, 39.0, 39.0, 41.0, 41.0, 42.0, 42.0, 42.0, 43.0, 43.0, 43.0, 44.0, 45.0, 45.0]\n",
      "16.78\n",
      "iteration :  6\n",
      "sorted samples :  [-0.0, -0.0, -0.0, -0.0, -0.0, -0.0, -0.0, -0.0, -0.0, -0.0, -0.0, -0.0, -0.0, -0.0, -0.0, -0.0, -0.0, -0.0, -0.0, -0.0, -0.0, -0.0, -0.0, -0.0, -0.0, -0.0, 21.0, 23.0, 27.0, 27.0, 28.0, 28.0, 29.0, 29.0, 30.0, 30.0, 30.0, 31.0, 40.0, 40.0, 41.0, 41.0, 42.0, 43.0, 44.0, 44.0, 44.0, 45.0, 45.0, 45.0]\n",
      "16.94\n",
      "iteration :  7\n",
      "sorted samples :  [-0.0, -0.0, -0.0, -0.0, -0.0, -0.0, -0.0, -0.0, -0.0, -0.0, -0.0, -0.0, -0.0, -0.0, -0.0, -0.0, -0.0, -0.0, -0.0, -0.0, -0.0, -0.0, -0.0, -0.0, -0.0, -0.0, 27.0, 28.0, 28.0, 28.0, 28.0, 29.0, 29.0, 29.0, 29.0, 30.0, 31.0, 31.0, 31.0, 40.0, 40.0, 41.0, 42.0, 43.0, 43.0, 43.0, 43.0, 43.0, 44.0, 44.0]\n",
      "16.88\n",
      "iteration :  8\n",
      "sorted samples :  [-0.0, -0.0, -0.0, -0.0, -0.0, -0.0, -0.0, -0.0, -0.0, -0.0, -0.0, -0.0, -0.0, -0.0, -0.0, -0.0, -0.0, -0.0, -0.0, -0.0, -0.0, -0.0, -0.0, -0.0, -0.0, -0.0, -0.0, 27.0, 28.0, 28.0, 29.0, 29.0, 30.0, 30.0, 31.0, 40.0, 40.0, 40.0, 40.0, 41.0, 41.0, 41.0, 42.0, 42.0, 42.0, 43.0, 44.0, 45.0, 45.0, 45.0]\n",
      "17.26\n",
      "iteration :  9\n",
      "sorted samples :  [-0.0, -0.0, -0.0, -0.0, -0.0, -0.0, -0.0, -0.0, -0.0, -0.0, -0.0, -0.0, -0.0, -0.0, -0.0, -0.0, -0.0, -0.0, -0.0, -0.0, -0.0, 27.0, 28.0, 28.0, 28.0, 28.0, 28.0, 29.0, 29.0, 29.0, 29.0, 29.0, 30.0, 30.0, 30.0, 31.0, 39.0, 41.0, 41.0, 41.0, 41.0, 42.0, 42.0, 43.0, 43.0, 43.0, 43.0, 43.0, 43.0, 45.0]\n",
      "20.46\n",
      "iteration :  10\n",
      "sorted samples :  [-0.0, -0.0, -0.0, -0.0, -0.0, -0.0, -0.0, -0.0, -0.0, -0.0, -0.0, -0.0, -0.0, -0.0, -0.0, -0.0, -0.0, -0.0, -0.0, -0.0, 27.0, 27.0, 28.0, 28.0, 28.0, 29.0, 29.0, 29.0, 29.0, 29.0, 30.0, 31.0, 31.0, 31.0, 40.0, 41.0, 42.0, 42.0, 42.0, 42.0, 42.0, 43.0, 43.0, 43.0, 43.0, 43.0, 44.0, 44.0, 45.0, 45.0]\n",
      "21.8\n",
      "iteration :  11\n",
      "sorted samples :  [-0.0, -0.0, -0.0, -0.0, -0.0, -0.0, -0.0, -0.0, -0.0, -0.0, -0.0, -0.0, -0.0, -0.0, -0.0, -0.0, -0.0, -0.0, -0.0, -0.0, -0.0, -0.0, -0.0, -0.0, -0.0, -0.0, -0.0, -0.0, -0.0, 28.0, 28.0, 30.0, 30.0, 30.0, 30.0, 30.0, 31.0, 31.0, 31.0, 31.0, 40.0, 40.0, 41.0, 42.0, 42.0, 44.0, 44.0, 44.0, 44.0, 45.0]\n",
      "15.12\n",
      "iteration :  12\n",
      "sorted samples :  [-0.0, -0.0, -0.0, -0.0, -0.0, -0.0, -0.0, -0.0, -0.0, -0.0, -0.0, -0.0, -0.0, -0.0, -0.0, -0.0, -0.0, -0.0, -0.0, -0.0, 2.0, 2.0, 28.0, 28.0, 28.0, 29.0, 29.0, 29.0, 29.0, 29.0, 30.0, 30.0, 31.0, 31.0, 31.0, 32.0, 41.0, 42.0, 42.0, 42.0, 43.0, 43.0, 43.0, 43.0, 44.0, 44.0, 45.0, 45.0, 45.0, 45.0]\n",
      "20.5\n",
      "iteration :  13\n",
      "sorted samples :  [-0.0, -0.0, -0.0, -0.0, -0.0, -0.0, -0.0, -0.0, -0.0, -0.0, -0.0, -0.0, -0.0, -0.0, -0.0, -0.0, -0.0, -0.0, -0.0, -0.0, -0.0, -0.0, -0.0, -0.0, -0.0, -0.0, -0.0, -0.0, -0.0, -0.0, -0.0, -0.0, -0.0, 28.0, 28.0, 29.0, 30.0, 31.0, 32.0, 40.0, 41.0, 41.0, 42.0, 42.0, 42.0, 42.0, 42.0, 44.0, 44.0, 45.0]\n",
      "12.86\n",
      "Success! Algorithm converged in  13  iterations\n"
     ]
    }
   ],
   "source": [
    "# Cross entropy method\n",
    "\n",
    "# Create the objective function\n",
    "objective_function = ObjectiveFunction(env, policy,observation_tree_depth=observation_tree_depth, observation_radius=observation_radius, num_episodes=1 , max_time_steps=200)\n",
    "\n",
    "init_mean_array = np.random.random(size = policy.num_params)\n",
    "init_var_array = np.ones(shape=policy.num_params) * 100.\n",
    "hist_dict = {}\n",
    "theta = cem_uncorrelated(\n",
    "    objective_function,\n",
    "    mean_array = init_mean_array,\n",
    "    var_array = init_var_array,\n",
    "    max_iterations=50,\n",
    "    sample_size=50,\n",
    "    elite_frac=0.2,\n",
    "    print_every=1,\n",
    "    success_score=15,\n",
    "    hist_dict=hist_dict\n",
    ")"
   ]
  },
  {
   "cell_type": "code",
   "execution_count": 45,
   "metadata": {},
   "outputs": [
    {
     "data": {
      "text/plain": [
       "1155"
      ]
     },
     "execution_count": 45,
     "metadata": {},
     "output_type": "execute_result"
    }
   ],
   "source": [
    "len(theta)"
   ]
  },
  {
   "cell_type": "code",
   "execution_count": 46,
   "metadata": {},
   "outputs": [],
   "source": [
    "# Create the environment\n",
    "observation_tree_depth = 3\n",
    "observation_radius = 10\n",
    "observation_max_path_depth = 20\n",
    "\n",
    "env = RailEnv(\n",
    "    width=20,\n",
    "    height=15,\n",
    "    rail_generator=SparseRailGen(\n",
    "        seed=0,  # Random seed\n",
    "        max_num_cities=2,  # Number of cities\n",
    "        grid_mode=True,\n",
    "        max_rails_between_cities=2,\n",
    "        max_rail_pairs_in_city=1,\n",
    "    ),\n",
    "    line_generator=SparseLineGen(speed_ratio_map={1.: 1.}\n",
    "        ),\n",
    "    number_of_agents=2, # Only one agent\n",
    "    obs_builder_object=TreeObsForRailEnv(max_depth=observation_tree_depth),\n",
    "    malfunction_generator=ParamMalfunctionGen(\n",
    "        MalfunctionParameters(\n",
    "            malfunction_rate=0.,  # Rate of malfunction\n",
    "            min_duration=3,  # Minimal duration\n",
    "            max_duration=20,  # Max duration\n",
    "        )\n",
    "    ),\n",
    ")"
   ]
  },
  {
   "cell_type": "code",
   "execution_count": 47,
   "metadata": {},
   "outputs": [
    {
     "name": "stdout",
     "output_type": "stream",
     "text": [
      "4675\n"
     ]
    }
   ],
   "source": [
    "# Initializing policy\n",
    "n_features_per_node = env.obs_builder.observation_dim\n",
    "n_nodes = sum([np.power(4, i) for i in range(observation_tree_depth + 1)])\n",
    "state_size = n_features_per_node * n_nodes\n",
    "policy = LogisticRegression(state_size, 5)\n",
    "print(policy.num_params)"
   ]
  },
  {
   "cell_type": "code",
   "execution_count": 48,
   "metadata": {},
   "outputs": [
    {
     "name": "stdout",
     "output_type": "stream",
     "text": [
      "iteration :  0\n",
      "sorted samples :  [-0.0, 3.0, 13.0, 21.0, 21.0, 21.0, 23.0, 26.0, 27.0, 28.0, 28.0, 29.0, 29.0, 30.0, 30.0, 34.0, 36.0, 37.0, 37.0, 37.0, 37.0, 38.0, 38.0, 38.0, 38.0, 38.0, 38.0, 38.0, 38.0, 38.0, 38.0, 38.0, 38.0, 38.0, 40.0, 41.0, 43.0, 44.0, 45.0, 46.0, 46.0, 46.0, 46.0, 46.0, 46.0, 46.0, 46.0, 55.0, 55.0, 57.0]\n",
      "35.78\n",
      "iteration :  1\n",
      "sorted samples :  [-0.0, -0.0, -0.0, -0.0, -0.0, -0.0, 9.0, 16.0, 22.0, 22.0, 22.0, 24.0, 24.0, 25.0, 26.0, 27.0, 27.0, 27.0, 27.0, 28.0, 29.0, 30.0, 30.0, 30.0, 30.0, 35.0, 36.0, 37.0, 38.0, 38.0, 38.0, 38.0, 39.0, 40.0, 41.0, 41.0, 42.0, 42.0, 43.0, 43.0, 44.0, 44.0, 45.0, 46.0, 46.0, 46.0, 46.0, 46.0, 50.0, 51.0]\n",
      "30.6\n",
      "iteration :  2\n",
      "sorted samples :  [-0.0, -0.0, -0.0, -0.0, -0.0, -0.0, -0.0, -0.0, -0.0, -0.0, -0.0, -0.0, -0.0, -0.0, -0.0, 2.0, 6.0, 12.0, 19.0, 20.0, 21.0, 21.0, 24.0, 26.0, 27.0, 28.0, 29.0, 30.0, 30.0, 30.0, 30.0, 30.0, 31.0, 35.0, 39.0, 39.0, 41.0, 42.0, 42.0, 42.0, 43.0, 43.0, 44.0, 44.0, 44.0, 45.0, 45.0, 45.0, 45.0, 64.0]\n",
      "23.16\n",
      "iteration :  3\n",
      "sorted samples :  [-0.0, -0.0, -0.0, -0.0, -0.0, -0.0, -0.0, -0.0, -0.0, -0.0, -0.0, -0.0, -0.0, -0.0, -0.0, -0.0, 6.0, 15.0, 18.0, 20.0, 21.0, 21.0, 25.0, 27.0, 29.0, 29.0, 30.0, 30.0, 30.0, 30.0, 30.0, 30.0, 31.0, 31.0, 32.0, 33.0, 40.0, 40.0, 41.0, 41.0, 41.0, 41.0, 41.0, 42.0, 42.0, 43.0, 43.0, 44.0, 44.0, 47.0]\n",
      "22.16\n",
      "iteration :  4\n",
      "sorted samples :  [-0.0, -0.0, -0.0, -0.0, -0.0, -0.0, -0.0, -0.0, -0.0, -0.0, -0.0, -0.0, -0.0, -0.0, -0.0, -0.0, -0.0, -0.0, -0.0, -0.0, -0.0, -0.0, -0.0, -0.0, 14.0, 22.0, 23.0, 27.0, 28.0, 28.0, 28.0, 29.0, 30.0, 31.0, 31.0, 31.0, 35.0, 40.0, 41.0, 41.0, 42.0, 42.0, 43.0, 43.0, 43.0, 43.0, 43.0, 43.0, 44.0, 45.0]\n",
      "18.2\n",
      "iteration :  5\n",
      "sorted samples :  [-0.0, -0.0, -0.0, -0.0, -0.0, -0.0, -0.0, -0.0, -0.0, -0.0, -0.0, -0.0, -0.0, -0.0, -0.0, -0.0, -0.0, -0.0, -0.0, -0.0, -0.0, -0.0, -0.0, -0.0, -0.0, -0.0, -0.0, -0.0, 5.0, 25.0, 27.0, 28.0, 28.0, 29.0, 29.0, 29.0, 30.0, 30.0, 30.0, 30.0, 30.0, 31.0, 31.0, 31.0, 32.0, 35.0, 41.0, 44.0, 45.0, 45.0]\n",
      "13.7\n",
      "iteration :  6\n",
      "sorted samples :  [-0.0, -0.0, -0.0, -0.0, -0.0, -0.0, -0.0, -0.0, -0.0, -0.0, -0.0, -0.0, -0.0, -0.0, -0.0, -0.0, -0.0, -0.0, -0.0, -0.0, -0.0, 28.0, 28.0, 28.0, 28.0, 29.0, 29.0, 29.0, 29.0, 29.0, 30.0, 30.0, 31.0, 32.0, 32.0, 39.0, 39.0, 40.0, 42.0, 42.0, 43.0, 43.0, 43.0, 43.0, 44.0, 44.0, 44.0, 44.0, 44.0, 45.0]\n",
      "21.02\n",
      "iteration :  7\n",
      "sorted samples :  [-0.0, -0.0, -0.0, -0.0, -0.0, -0.0, -0.0, -0.0, -0.0, -0.0, -0.0, -0.0, -0.0, -0.0, -0.0, -0.0, -0.0, -0.0, -0.0, -0.0, -0.0, -0.0, -0.0, -0.0, 27.0, 27.0, 27.0, 28.0, 28.0, 29.0, 30.0, 31.0, 35.0, 40.0, 40.0, 40.0, 40.0, 40.0, 40.0, 41.0, 41.0, 42.0, 42.0, 42.0, 43.0, 43.0, 43.0, 44.0, 44.0, 45.0]\n",
      "19.44\n",
      "iteration :  8\n",
      "sorted samples :  [-0.0, -0.0, -0.0, -0.0, -0.0, -0.0, -0.0, -0.0, -0.0, -0.0, -0.0, -0.0, -0.0, -0.0, -0.0, -0.0, -0.0, -0.0, -0.0, -0.0, -0.0, -0.0, -0.0, -0.0, -0.0, -0.0, 28.0, 28.0, 29.0, 30.0, 31.0, 31.0, 31.0, 32.0, 32.0, 32.0, 32.0, 40.0, 41.0, 41.0, 41.0, 42.0, 42.0, 43.0, 43.0, 44.0, 44.0, 44.0, 45.0, 45.0]\n",
      "17.82\n",
      "iteration :  9\n",
      "sorted samples :  [-0.0, -0.0, -0.0, -0.0, -0.0, -0.0, -0.0, -0.0, -0.0, -0.0, -0.0, -0.0, -0.0, -0.0, -0.0, -0.0, -0.0, -0.0, -0.0, -0.0, -0.0, -0.0, -0.0, -0.0, -0.0, -0.0, -0.0, -0.0, 13.0, 14.0, 29.0, 29.0, 29.0, 29.0, 30.0, 30.0, 31.0, 31.0, 31.0, 32.0, 33.0, 41.0, 41.0, 41.0, 42.0, 42.0, 42.0, 43.0, 44.0, 44.0]\n",
      "14.82\n",
      "iteration :  10\n",
      "sorted samples :  [-0.0, -0.0, -0.0, -0.0, -0.0, -0.0, -0.0, -0.0, -0.0, -0.0, -0.0, -0.0, -0.0, -0.0, -0.0, -0.0, -0.0, -0.0, -0.0, -0.0, -0.0, -0.0, -0.0, -0.0, -0.0, -0.0, -0.0, -0.0, -0.0, -0.0, -0.0, -0.0, 29.0, 29.0, 29.0, 29.0, 29.0, 30.0, 31.0, 31.0, 32.0, 39.0, 39.0, 41.0, 41.0, 41.0, 42.0, 43.0, 44.0, 44.0]\n",
      "12.86\n",
      "iteration :  11\n",
      "sorted samples :  [-0.0, -0.0, -0.0, -0.0, -0.0, -0.0, -0.0, -0.0, -0.0, -0.0, -0.0, -0.0, -0.0, -0.0, -0.0, -0.0, -0.0, -0.0, -0.0, -0.0, -0.0, -0.0, 14.0, 14.0, 27.0, 27.0, 27.0, 28.0, 28.0, 29.0, 29.0, 30.0, 30.0, 31.0, 31.0, 32.0, 35.0, 40.0, 40.0, 41.0, 41.0, 41.0, 41.0, 42.0, 43.0, 43.0, 43.0, 44.0, 44.0, 44.0]\n",
      "19.18\n",
      "iteration :  12\n",
      "sorted samples :  [-0.0, -0.0, -0.0, -0.0, -0.0, -0.0, -0.0, -0.0, -0.0, -0.0, -0.0, -0.0, -0.0, -0.0, -0.0, -0.0, -0.0, -0.0, -0.0, -0.0, -0.0, 20.0, 27.0, 28.0, 28.0, 29.0, 30.0, 30.0, 30.0, 30.0, 31.0, 31.0, 31.0, 40.0, 41.0, 41.0, 42.0, 42.0, 43.0, 43.0, 43.0, 43.0, 44.0, 44.0, 44.0, 44.0, 45.0, 45.0, 45.0, 49.0]\n",
      "21.66\n",
      "iteration :  13\n",
      "sorted samples :  [-0.0, -0.0, -0.0, -0.0, -0.0, -0.0, -0.0, -0.0, -0.0, -0.0, -0.0, -0.0, -0.0, -0.0, -0.0, -0.0, -0.0, -0.0, -0.0, -0.0, -0.0, -0.0, -0.0, -0.0, -0.0, -0.0, 27.0, 29.0, 29.0, 29.0, 30.0, 30.0, 31.0, 31.0, 31.0, 39.0, 39.0, 41.0, 41.0, 42.0, 42.0, 43.0, 43.0, 43.0, 43.0, 43.0, 44.0, 44.0, 44.0, 45.0]\n",
      "18.06\n",
      "iteration :  14\n",
      "sorted samples :  [-0.0, -0.0, -0.0, -0.0, -0.0, -0.0, -0.0, -0.0, -0.0, -0.0, -0.0, -0.0, -0.0, -0.0, -0.0, -0.0, -0.0, -0.0, -0.0, -0.0, -0.0, -0.0, -0.0, -0.0, -0.0, -0.0, -0.0, -0.0, 27.0, 28.0, 28.0, 29.0, 29.0, 29.0, 30.0, 30.0, 40.0, 40.0, 40.0, 40.0, 40.0, 40.0, 41.0, 41.0, 41.0, 42.0, 42.0, 43.0, 45.0, 49.0]\n",
      "16.28\n",
      "iteration :  15\n",
      "sorted samples :  [-0.0, -0.0, -0.0, -0.0, -0.0, -0.0, -0.0, -0.0, -0.0, -0.0, -0.0, -0.0, -0.0, -0.0, -0.0, -0.0, -0.0, -0.0, -0.0, -0.0, -0.0, 28.0, 28.0, 28.0, 28.0, 28.0, 29.0, 29.0, 29.0, 30.0, 30.0, 31.0, 31.0, 31.0, 32.0, 35.0, 40.0, 41.0, 41.0, 41.0, 42.0, 42.0, 42.0, 42.0, 43.0, 44.0, 44.0, 45.0, 45.0, 45.0]\n",
      "20.88\n",
      "iteration :  16\n",
      "sorted samples :  [-0.0, -0.0, -0.0, -0.0, -0.0, -0.0, -0.0, -0.0, -0.0, -0.0, -0.0, -0.0, -0.0, -0.0, -0.0, -0.0, -0.0, -0.0, -0.0, -0.0, -0.0, -0.0, -0.0, -0.0, -0.0, -0.0, -0.0, 28.0, 29.0, 29.0, 29.0, 30.0, 30.0, 31.0, 31.0, 31.0, 39.0, 42.0, 42.0, 43.0, 43.0, 43.0, 43.0, 43.0, 43.0, 44.0, 44.0, 44.0, 45.0, 45.0]\n",
      "17.42\n",
      "iteration :  17\n",
      "sorted samples :  [-0.0, -0.0, -0.0, -0.0, -0.0, -0.0, -0.0, -0.0, -0.0, -0.0, -0.0, -0.0, -0.0, -0.0, -0.0, -0.0, -0.0, -0.0, -0.0, -0.0, -0.0, -0.0, -0.0, -0.0, -0.0, -0.0, -0.0, -0.0, 27.0, 28.0, 29.0, 30.0, 31.0, 31.0, 31.0, 31.0, 32.0, 40.0, 41.0, 41.0, 41.0, 41.0, 41.0, 42.0, 42.0, 43.0, 43.0, 44.0, 44.0, 45.0]\n",
      "16.36\n",
      "iteration :  18\n"
     ]
    }
   ],
   "source": [
    "# Cross entropy method\n",
    "\n",
    "# Create the objective function\n",
    "objective_function = ObjectiveFunction(env, policy,observation_tree_depth=observation_tree_depth, observation_radius=observation_radius, num_episodes=1 , max_time_steps=200)\n",
    "\n",
    "init_mean_array = np.random.random(size = policy.num_params)\n",
    "init_var_array = np.ones(shape=policy.num_params) * 100.\n",
    "hist_dict = {}\n",
    "theta = cem_uncorrelated(\n",
    "    objective_function,\n",
    "    mean_array = init_mean_array,\n",
    "    var_array = init_var_array,\n",
    "    max_iterations=50,\n",
    "    sample_size=50,\n",
    "    elite_frac=0.2,\n",
    "    print_every=1,\n",
    "    success_score=10,\n",
    "    hist_dict=hist_dict\n",
    ")"
   ]
  },
  {
   "cell_type": "code",
   "execution_count": 35,
   "metadata": {},
   "outputs": [
    {
     "data": {
      "text/plain": [
       "275"
      ]
     },
     "execution_count": 35,
     "metadata": {},
     "output_type": "execute_result"
    }
   ],
   "source": [
    "len(theta)"
   ]
  }
 ],
 "metadata": {
  "kernelspec": {
   "display_name": "Default",
   "language": "python",
   "name": "python3"
  },
  "language_info": {
   "codemirror_mode": {
    "name": "ipython",
    "version": 3
   },
   "file_extension": ".py",
   "mimetype": "text/x-python",
   "name": "python",
   "nbconvert_exporter": "python",
   "pygments_lexer": "ipython3",
   "version": "3.11.5"
  }
 },
 "nbformat": 4,
 "nbformat_minor": 2
}
