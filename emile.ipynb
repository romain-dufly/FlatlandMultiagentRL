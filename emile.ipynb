{
 "cells": [
  {
   "cell_type": "code",
   "execution_count": 1,
   "metadata": {},
   "outputs": [],
   "source": [
    "%load_ext autoreload\n",
    "%autoreload 2\n",
    "from evolution_algos import cem_uncorrelated, saes_1_1, ObjectiveFunction\n",
    "from evolution_policy import NeuralNetworkPolicy, LogisticRegression\n",
    "\n",
    "import numpy as np\n",
    "from test_utils import RenderWrapper\n",
    "from flatland.envs.line_generators import SparseLineGen\n",
    "from flatland.envs.malfunction_generators import (\n",
    "    MalfunctionParameters,\n",
    "    ParamMalfunctionGen,\n",
    ")\n",
    "from flatland.envs.persistence import RailEnvPersister\n",
    "from flatland.envs.rail_env import RailEnv\n",
    "from flatland.envs.rail_generators import SparseRailGen\n",
    "# from flatland_cutils import TreeObsForRailEnv as TreeCutils\n",
    "from flatland.envs.observations import GlobalObsForRailEnv\n",
    "\n",
    "from flatland.envs.observations import TreeObsForRailEnv\n",
    "from flatland.envs.distance_map import DistanceMap\n",
    "import flatland.envs.rail_env_shortest_paths as sp\n",
    "\n",
    "from flatland.utils.rendertools import RenderTool\n",
    "\n",
    "from observation_utils import normalize_observation"
   ]
  },
  {
   "cell_type": "code",
   "execution_count": 2,
   "metadata": {},
   "outputs": [],
   "source": [
    "# Create the environment\n",
    "observation_tree_depth = 3\n",
    "observation_radius = 10\n",
    "observation_max_path_depth = 20\n",
    "\n",
    "env = RailEnv(\n",
    "    width=20,\n",
    "    height=15,\n",
    "    rail_generator=SparseRailGen(\n",
    "        seed=0,  # Random seed\n",
    "        max_num_cities=2,  # Number of cities\n",
    "        grid_mode=True,\n",
    "        max_rails_between_cities=2,\n",
    "        max_rail_pairs_in_city=1,\n",
    "    ),\n",
    "    line_generator=SparseLineGen(speed_ratio_map={1.: 1.}\n",
    "        ),\n",
    "    number_of_agents=2, # Only one agent\n",
    "    obs_builder_object=TreeObsForRailEnv(max_depth=observation_tree_depth),\n",
    "    malfunction_generator=ParamMalfunctionGen(\n",
    "        MalfunctionParameters(\n",
    "            malfunction_rate=0.,  # Rate of malfunction\n",
    "            min_duration=3,  # Minimal duration\n",
    "            max_duration=20,  # Max duration\n",
    "        )\n",
    "    ),\n",
    ")"
   ]
  },
  {
   "cell_type": "code",
   "execution_count": null,
   "metadata": {},
   "outputs": [],
   "source": []
  },
  {
   "cell_type": "code",
   "execution_count": 3,
   "metadata": {},
   "outputs": [
    {
     "name": "stdout",
     "output_type": "stream",
     "text": [
      "4675\n"
     ]
    }
   ],
   "source": [
    "# Initializing policy\n",
    "n_features_per_node = env.obs_builder.observation_dim\n",
    "n_nodes = sum([np.power(4, i) for i in range(observation_tree_depth + 1)])\n",
    "state_size = n_features_per_node * n_nodes\n",
    "policy = LogisticRegression(state_size, 5)\n",
    "print(policy.num_params)"
   ]
  },
  {
   "cell_type": "code",
   "execution_count": 4,
   "metadata": {},
   "outputs": [],
   "source": [
    "theta = np.random.rand(policy.num_params)\n",
    "\n",
    "obs, info = env.reset()\n",
    "agent_obs = [None] * env.get_num_agents()\n",
    "for agent in env.get_agent_handles():\n",
    "    if obs[agent]:\n",
    "        agent_obs[agent] = normalize_observation(obs[agent], tree_depth=observation_tree_depth, observation_radius=observation_radius)\n",
    "\n",
    "for agent in env.get_agent_handles():\n",
    "    action = policy.act(agent_obs[agent], theta)\n",
    "    "
   ]
  },
  {
   "cell_type": "code",
   "execution_count": 6,
   "metadata": {},
   "outputs": [
    {
     "name": "stdout",
     "output_type": "stream",
     "text": [
      "0.0\n"
     ]
    }
   ],
   "source": [
    "# Cross entropy method\n",
    "\n",
    "# Create the objective function\n",
    "objective_function = ObjectiveFunction(env, policy,observation_tree_depth=observation_tree_depth, observation_radius=observation_radius , max_time_steps=1)\n",
    "\n",
    "init_mean_array = np.random.random(size = policy.num_params)\n",
    "init_var_array = np.ones(shape=policy.num_params) * 100.\n",
    "hist_dict = {}\n",
    "cem = cem_uncorrelated(\n",
    "    objective_function,\n",
    "    mean_array = init_mean_array,\n",
    "    var_array = init_var_array,\n",
    "    max_iterations=100,\n",
    "    sample_size=50,\n",
    "    elite_frac=0.2,\n",
    "    print_every=1,\n",
    "    hist_dict=hist_dict\n",
    ")"
   ]
  },
  {
   "cell_type": "code",
   "execution_count": null,
   "metadata": {},
   "outputs": [],
   "source": []
  },
  {
   "cell_type": "code",
   "execution_count": 7,
   "metadata": {},
   "outputs": [
    {
     "data": {
      "text/plain": [
       "array([0.48152989, 0.57940165, 0.74501553, ..., 0.32054021, 0.13035598,\n",
       "       0.20940606])"
      ]
     },
     "execution_count": 7,
     "metadata": {},
     "output_type": "execute_result"
    }
   ],
   "source": [
    "cem"
   ]
  },
  {
   "cell_type": "code",
   "execution_count": null,
   "metadata": {},
   "outputs": [],
   "source": []
  }
 ],
 "metadata": {
  "kernelspec": {
   "display_name": "Default",
   "language": "python",
   "name": "python3"
  },
  "language_info": {
   "codemirror_mode": {
    "name": "ipython",
    "version": 3
   },
   "file_extension": ".py",
   "mimetype": "text/x-python",
   "name": "python",
   "nbconvert_exporter": "python",
   "pygments_lexer": "ipython3",
   "version": "3.11.5"
  }
 },
 "nbformat": 4,
 "nbformat_minor": 2
}
