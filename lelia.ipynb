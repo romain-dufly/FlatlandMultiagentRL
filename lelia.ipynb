{
 "cells": [
  {
   "cell_type": "markdown",
   "metadata": {},
   "source": [
    "# Map-related methods"
   ]
  },
  {
   "cell_type": "markdown",
   "metadata": {},
   "source": [
    "## Import necessary packages"
   ]
  },
  {
   "cell_type": "code",
   "execution_count": 3,
   "metadata": {},
   "outputs": [
    {
     "ename": "ModuleNotFoundError",
     "evalue": "No module named 'src'",
     "output_type": "error",
     "traceback": [
      "\u001b[1;31m---------------------------------------------------------------------------\u001b[0m",
      "\u001b[1;31mModuleNotFoundError\u001b[0m                       Traceback (most recent call last)",
      "Cell \u001b[1;32mIn[3], line 32\u001b[0m\n\u001b[0;32m     29\u001b[0m \u001b[38;5;28;01mfrom\u001b[39;00m \u001b[38;5;21;01mflatland\u001b[39;00m\u001b[38;5;21;01m.\u001b[39;00m\u001b[38;5;21;01menvs\u001b[39;00m\u001b[38;5;21;01m.\u001b[39;00m\u001b[38;5;21;01mdistance_map\u001b[39;00m \u001b[38;5;28;01mimport\u001b[39;00m DistanceMap\n\u001b[0;32m     30\u001b[0m \u001b[38;5;28;01mimport\u001b[39;00m \u001b[38;5;21;01mflatland\u001b[39;00m\u001b[38;5;21;01m.\u001b[39;00m\u001b[38;5;21;01menvs\u001b[39;00m\u001b[38;5;21;01m.\u001b[39;00m\u001b[38;5;21;01mrail_env_shortest_paths\u001b[39;00m \u001b[38;5;28;01mas\u001b[39;00m \u001b[38;5;21;01msp\u001b[39;00m\n\u001b[1;32m---> 32\u001b[0m \u001b[38;5;28;01mfrom\u001b[39;00m \u001b[38;5;21;01msrc\u001b[39;00m \u001b[38;5;28;01mimport\u001b[39;00m test_utils, training, rewards\n\u001b[0;32m     33\u001b[0m \u001b[38;5;28;01mfrom\u001b[39;00m \u001b[38;5;21;01msrc\u001b[39;00m\u001b[38;5;21;01m.\u001b[39;00m\u001b[38;5;21;01mobservation_utils\u001b[39;00m \u001b[38;5;28;01mimport\u001b[39;00m normalize_observation\n\u001b[0;32m     34\u001b[0m \u001b[38;5;28;01mfrom\u001b[39;00m \u001b[38;5;21;01msrc\u001b[39;00m\u001b[38;5;21;01m.\u001b[39;00m\u001b[38;5;21;01mmodels\u001b[39;00m \u001b[38;5;28;01mimport\u001b[39;00m \u001b[38;5;241m*\u001b[39m\n",
      "\u001b[1;31mModuleNotFoundError\u001b[0m: No module named 'src'"
     ]
    }
   ],
   "source": [
    "# Import relevant libraries\n",
    "\n",
    "%reload_ext autoreload\n",
    "%autoreload 2\n",
    "\n",
    "import sys\n",
    "sys.path.append('src/')\n",
    "\n",
    "import numpy as np\n",
    "import os\n",
    "import pandas as pd\n",
    "from ast import literal_eval\n",
    "import matplotlib.pyplot as plt\n",
    "import torch\n",
    "import time\n",
    "import random\n",
    "\n",
    "# Base flatland environment\n",
    "from flatland.envs.line_generators import SparseLineGen\n",
    "from flatland.envs.malfunction_generators import (\n",
    "    MalfunctionParameters,\n",
    "    ParamMalfunctionGen,\n",
    ")\n",
    "from flatland.envs.rail_env import RailEnv\n",
    "from flatland.envs.rail_generators import SparseRailGen\n",
    "from flatland.envs.observations import GlobalObsForRailEnv\n",
    "\n",
    "from flatland.envs.observations import TreeObsForRailEnv\n",
    "from flatland.envs.distance_map import DistanceMap\n",
    "import flatland.envs.rail_env_shortest_paths as sp\n",
    "\n",
    "from src import test_utils, training, rewards\n",
    "from src.observation_utils import normalize_observation\n",
    "from src.models import *\n",
    "from src.deep_model_policy import DeepPolicy, PolicyParameters\n",
    "\n",
    "# Visualization\n",
    "from flatland.utils.rendertools import RenderTool\n"
   ]
  },
  {
   "cell_type": "markdown",
   "metadata": {},
   "source": [
    "## Create the environment"
   ]
  },
  {
   "cell_type": "code",
   "execution_count": 4,
   "metadata": {},
   "outputs": [],
   "source": [
    "# Create the environment\n",
    "\n",
    "env = RailEnv(\n",
    "    width=20,\n",
    "    height=15,\n",
    "    rail_generator=SparseRailGen(\n",
    "        max_num_cities=2,  # Number of cities\n",
    "        grid_mode=True,\n",
    "        max_rails_between_cities=2,\n",
    "        max_rail_pairs_in_city=1,\n",
    "    ),\n",
    "    line_generator=SparseLineGen(speed_ratio_map={1.: 1.}\n",
    "        ),\n",
    "    number_of_agents=2, \n",
    "    obs_builder_object=TreeObsForRailEnv(max_depth=3),\n",
    "    malfunction_generator=ParamMalfunctionGen(\n",
    "        MalfunctionParameters(\n",
    "            malfunction_rate=0.,  # Rate of malfunction\n",
    "            min_duration=3,  # Minimal duration\n",
    "            max_duration=20,  # Max duration\n",
    "        )\n",
    "    ),\n",
    ")\n",
    "\n",
    "_,_ = env.reset()"
   ]
  },
  {
   "cell_type": "markdown",
   "metadata": {},
   "source": [
    "## SARSA"
   ]
  },
  {
   "cell_type": "markdown",
   "metadata": {},
   "source": []
  }
 ],
 "metadata": {
  "kernelspec": {
   "display_name": "base",
   "language": "python",
   "name": "python3"
  },
  "language_info": {
   "codemirror_mode": {
    "name": "ipython",
    "version": 3
   },
   "file_extension": ".py",
   "mimetype": "text/x-python",
   "name": "python",
   "nbconvert_exporter": "python",
   "pygments_lexer": "ipython3",
   "version": "3.9.18"
  }
 },
 "nbformat": 4,
 "nbformat_minor": 2
}
